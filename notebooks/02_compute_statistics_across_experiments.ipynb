{
 "cells": [
  {
   "cell_type": "code",
   "execution_count": 1,
   "metadata": {},
   "outputs": [
    {
     "ename": "SyntaxError",
     "evalue": "invalid syntax (<ipython-input-1-7aaaa05bbf30>, line 8)",
     "output_type": "error",
     "traceback": [
      "\u001b[0;36m  File \u001b[0;32m\"<ipython-input-1-7aaaa05bbf30>\"\u001b[0;36m, line \u001b[0;32m8\u001b[0m\n\u001b[0;31m    acc.append(job.results['my_result')\u001b[0m\n\u001b[0m                                      ^\u001b[0m\n\u001b[0;31mSyntaxError\u001b[0m\u001b[0;31m:\u001b[0m invalid syntax\n"
     ]
    }
   ],
   "source": [
    "import schedy\n",
    "\n",
    "db = schedy.SchedyDB()\n",
    "exp = db.get_experiment('my_experiment')\n",
    "acc = []\n",
    "for job in exp.all_jobs():\n",
    "    if job.hyperparameters['my_hp'] == my_value:\n",
    "        acc.append(job.results['my_result')\n",
    "print(np.mean(acc), np.std(acc), np.min(acc), np.max(acc))"
   ]
  },
  {
   "cell_type": "code",
   "execution_count": null,
   "metadata": {},
   "outputs": [],
   "source": []
  }
 ],
 "metadata": {
  "kernelspec": {
   "display_name": "Python 3",
   "language": "python",
   "name": "python3"
  },
  "language_info": {
   "codemirror_mode": {
    "name": "ipython",
    "version": 3
   },
   "file_extension": ".py",
   "mimetype": "text/x-python",
   "name": "python",
   "nbconvert_exporter": "python",
   "pygments_lexer": "ipython3",
   "version": "3.6.4"
  }
 },
 "nbformat": 4,
 "nbformat_minor": 2
}
