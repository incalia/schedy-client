{
 "cells": [
  {
   "cell_type": "code",
   "execution_count": 2,
   "metadata": {},
   "outputs": [],
   "source": [
    "import schedy\n",
    "\n",
    "db = schedy.SchedyDB()\n",
    "exp = db.get_experiment('my_experiment')\n",
    "acc = []\n",
    "for job in exp.all_jobs():\n",
    "    if job.hyperparameters['my_hp'] == my_value:\n",
    "        acc.append(job.results['my_result')\n",
    "print(np.mean(acc), np.std(acc), np.min(acc), np.max(acc))"
   ]
  },
  {
   "cell_type": "code",
   "execution_count": null,
   "metadata": {},
   "outputs": [],
   "source": []
  }
 ],
 "metadata": {
  "kernelspec": {
   "display_name": "Python 3",
   "language": "python",
   "name": "python3"
  },
  "language_info": {
   "codemirror_mode": {
    "name": "ipython",
    "version": 3
   },
   "file_extension": ".py",
   "mimetype": "text/x-python",
   "name": "python",
   "nbconvert_exporter": "python",
   "pygments_lexer": "ipython3",
   "version": "3.6.4"
  }
 },
 "nbformat": 4,
 "nbformat_minor": 2
}
