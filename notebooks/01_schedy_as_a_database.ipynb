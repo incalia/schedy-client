{
 "cells": [
  {
   "cell_type": "code",
   "execution_count": 2,
   "metadata": {},
   "outputs": [],
   "source": [
    "import schedy\n",
    "from schedy import ManualSearch\n",
    "\n",
    "database = schedy.SchedyDB()\n",
    "experiment = ManualSearch(name='your_experiment_name')\n",
    "database.add_experiment(experiment)\n",
    "\n",
    "jobs = [{'hyperparameters':{'learning_rate':0.1, \"l1\":1e-2, \"dropout\":0.5},\n",
    "         'results':{'loss':[1.2, 0.8, 0.3, 0.2],\n",
    "                  'best_valid_accuracy':0.97},\n",
    "         'status':schedy.Job.DONE},\n",
    "        \n",
    "       {'hyperparameters':{'learning_rate':0.01, \"l1\":1e-3, \"dropout\":0.1},\n",
    "         'results':{'loss':[1.25, 0.08, 0.03, 0.01],\n",
    "                  'best_valid_accuracy':0.85},\n",
    "         'status':schedy.Job.DONE},\n",
    "       ]\n",
    "\n",
    "for job in jobs:\n",
    "    experiment.add_job(**job)"
   ]
  },
  {
   "cell_type": "code",
   "execution_count": null,
   "metadata": {},
   "outputs": [],
   "source": []
  }
 ],
 "metadata": {
  "kernelspec": {
   "display_name": "Python 3",
   "language": "python",
   "name": "python3"
  },
  "language_info": {
   "codemirror_mode": {
    "name": "ipython",
    "version": 3
   },
   "file_extension": ".py",
   "mimetype": "text/x-python",
   "name": "python",
   "nbconvert_exporter": "python",
   "pygments_lexer": "ipython3",
   "version": "3.6.4"
  }
 },
 "nbformat": 4,
 "nbformat_minor": 2
}
